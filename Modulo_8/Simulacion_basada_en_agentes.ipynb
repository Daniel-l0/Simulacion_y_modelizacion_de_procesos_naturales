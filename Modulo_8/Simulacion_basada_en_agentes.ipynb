{
 "cells": [
  {
   "cell_type": "code",
   "execution_count": 1,
   "id": "d23fa4cb",
   "metadata": {},
   "outputs": [
    {
     "name": "stdout",
     "output_type": "stream",
     "text": [
      "Dirección en la que se moverá la bacteria: S\n"
     ]
    }
   ],
   "source": [
    "import random\n",
    "\n",
    "def randomDirection():\n",
    "    return random.choice(['N', 'S', 'E', 'W'])\n",
    "\n",
    "def behaviour(rho, m_i, d_i, p_i, p_d):\n",
    "    if rho <= m_i:\n",
    "        p = p_d\n",
    "    else:\n",
    "        p = p_i\n",
    "\n",
    "    if random.random() <= p:\n",
    "        return rho, d_i  # Se mueve en la dirección d_i\n",
    "    else:\n",
    "        return rho, randomDirection()  # Se mueve en dirección aleatoria\n",
    "\n",
    "# Parámetros\n",
    "rho = 0.7\n",
    "m_i = 0.6\n",
    "d_i = 'S'\n",
    "p_i = 0.4\n",
    "p_d = 0.6\n",
    "\n",
    "# Simulación\n",
    "result = behaviour(rho, m_i, d_i, p_i, p_d)\n",
    "new_rho, direction_moved = result\n",
    "\n",
    "# Probabilidades\n",
    "print(f\"Dirección en la que se moverá la bacteria: {direction_moved}\")"
   ]
  }
 ],
 "metadata": {
  "kernelspec": {
   "display_name": "Python 3",
   "language": "python",
   "name": "python3"
  },
  "language_info": {
   "codemirror_mode": {
    "name": "ipython",
    "version": 3
   },
   "file_extension": ".py",
   "mimetype": "text/x-python",
   "name": "python",
   "nbconvert_exporter": "python",
   "pygments_lexer": "ipython3",
   "version": "3.10.11"
  }
 },
 "nbformat": 4,
 "nbformat_minor": 5
}
