{
 "cells": [
  {
   "cell_type": "code",
   "execution_count": 1,
   "id": "9b5dbace",
   "metadata": {},
   "outputs": [
    {
     "name": "stdout",
     "output_type": "stream",
     "text": [
      "x2(2Δt) ≈ 979887.773451 m\n"
     ]
    }
   ],
   "source": [
    "# Constantes físicas\n",
    "G = 6.67408e-11\n",
    "m1 = 1e20  # kg\n",
    "m2 = 1e12  # kg\n",
    "\n",
    "# Paso de tiempo\n",
    "dt = 1000  # s\n",
    "\n",
    "# Posiciones a t = 0\n",
    "x1_0 = 0\n",
    "x2_0 = 1e6\n",
    "\n",
    "# Posiciones a t = dt (Euler)\n",
    "x1_dt = 6.67408e-5\n",
    "x2_dt = 993325.92\n",
    "\n",
    "# Velocidades en t = dt/2 (calculadas con diferencias centradas)\n",
    "v1_half = 6.67408e-8\n",
    "v2_half = -6.67408\n",
    "\n",
    "# Distancia entre partículas en t = dt\n",
    "r = abs(x2_dt - x1_dt)\n",
    "\n",
    "# Aceleración sobre partícula 2 en t = dt\n",
    "a2 = -G * m1 / (r ** 2)\n",
    "\n",
    "# Actualizar velocidad en t = 3dt/2 (opcional)\n",
    "v2_3half = v2_half + dt * a2\n",
    "\n",
    "# Actualizar posición en t = 2dt usando leap-frog\n",
    "x2_2dt = x2_dt + dt * v2_3half\n",
    "\n",
    "print(f\"x2(2Δt) ≈ {x2_2dt:.6f} m\")\n"
   ]
  },
  {
   "cell_type": "code",
   "execution_count": 2,
   "id": "0964d76e",
   "metadata": {},
   "outputs": [
    {
     "name": "stdout",
     "output_type": "stream",
     "text": [
      "x2(2Δt) = 979887.7734506945 m\n"
     ]
    }
   ],
   "source": [
    "import numpy as np\n",
    "\n",
    "# Parámetros\n",
    "G   = 6.67408e-11      # m³/(kg·s²)\n",
    "m1  = 1e20             # kg\n",
    "m2  = 1e12             # kg\n",
    "dt  = 1000.0           # s\n",
    "\n",
    "# Aproximaciones previas (Euler + diferencias centradas)\n",
    "x1_dt    = 6.67408e-5        # m\n",
    "x2_dt    = 993325.92         # m\n",
    "v1_half  = 6.67408e-8        # m/s\n",
    "v2_half  = -6.67408          # m/s\n",
    "\n",
    "# 1) aceleraciones en t = Δt\n",
    "d     = x2_dt - x1_dt\n",
    "F     = G * m1 * m2 / d**2\n",
    "a1_dt = +F / m1\n",
    "a2_dt = -F / m2\n",
    "\n",
    "# 2) velocidades en t = 3Δt/2\n",
    "v1_3half = v1_half + a1_dt * dt\n",
    "v2_3half = v2_half + a2_dt * dt\n",
    "\n",
    "# 3) posiciones en t = 2Δt\n",
    "x1_2dt = x1_dt + dt * v1_3half\n",
    "x2_2dt = x2_dt + dt * v2_3half\n",
    "\n",
    "print(f\"x2(2Δt) = {x2_2dt:.10f} m\")"
   ]
  }
 ],
 "metadata": {
  "kernelspec": {
   "display_name": "Python 3",
   "language": "python",
   "name": "python3"
  },
  "language_info": {
   "codemirror_mode": {
    "name": "ipython",
    "version": 3
   },
   "file_extension": ".py",
   "mimetype": "text/x-python",
   "name": "python",
   "nbconvert_exporter": "python",
   "pygments_lexer": "ipython3",
   "version": "3.10.11"
  }
 },
 "nbformat": 4,
 "nbformat_minor": 5
}
