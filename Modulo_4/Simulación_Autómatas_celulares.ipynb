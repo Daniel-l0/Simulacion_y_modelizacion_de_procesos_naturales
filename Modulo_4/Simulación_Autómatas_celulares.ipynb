{
 "cells": [
  {
   "cell_type": "code",
   "execution_count": 1,
   "id": "3334c634",
   "metadata": {},
   "outputs": [
    {
     "name": "stdout",
     "output_type": "stream",
     "text": [
      "Índice\tBinario\t\tParidad\n",
      " 0 \t 0000 \t 0\n",
      " 1 \t 0001 \t 1\n",
      " 2 \t 0010 \t 1\n",
      " 3 \t 0011 \t 0\n",
      " 4 \t 0100 \t 1\n",
      " 5 \t 0101 \t 0\n",
      " 6 \t 0110 \t 0\n",
      " 7 \t 0111 \t 1\n",
      " 8 \t 1000 \t 1\n",
      " 9 \t 1001 \t 0\n",
      "10 \t 1010 \t 0\n",
      "11 \t 1011 \t 1\n",
      "12 \t 1100 \t 0\n",
      "13 \t 1101 \t 1\n",
      "14 \t 1110 \t 1\n",
      "15 \t 1111 \t 0\n"
     ]
    }
   ],
   "source": [
    "# Generar la tabla de consulta para la regla de paridad (índice 0 a 15)\n",
    "\n",
    "def parity_rule_lookup():\n",
    "    table = {}\n",
    "    print(\"Índice\\tBinario\\t\\tParidad\")\n",
    "    for i in range(16):\n",
    "        # Convertir el índice a binario con 4 bits (formato: s_{i-1,j}, s_{i+1,j}, s_{i,j-1}, s_{i,j+1})\n",
    "        b = f\"{i:04b}\"\n",
    "        bits = [int(b[3]), int(b[2]), int(b[1]), int(b[0])]  # orden original según pesos: 1, 2, 4, 8\n",
    "        parity = sum(bits) % 2\n",
    "        table[i] = parity\n",
    "        print(f\"{i:>2} \\t {b} \\t {parity}\")\n",
    "    return table\n",
    "\n",
    "parity_table = parity_rule_lookup()\n"
   ]
  },
  {
   "cell_type": "code",
   "execution_count": 2,
   "id": "15c74448",
   "metadata": {},
   "outputs": [
    {
     "name": "stdout",
     "output_type": "stream",
     "text": [
      "Estado en t = 8: [0, 1, 1, 1, 1, 1, 1, 1, 0, 1, 0, 0]\n"
     ]
    }
   ],
   "source": [
    "def rule110(left, center, right):\n",
    "    \"\"\"Devuelve el nuevo estado según la regla 110.\"\"\"\n",
    "    pattern = (left << 2) | (center << 1) | right\n",
    "    rule = {\n",
    "        0b111: 0,\n",
    "        0b110: 1,\n",
    "        0b101: 1,\n",
    "        0b100: 0,\n",
    "        0b011: 1,\n",
    "        0b010: 1,\n",
    "        0b001: 1,\n",
    "        0b000: 0\n",
    "    }\n",
    "    return rule[pattern]\n",
    "\n",
    "def evolve_110(initial_state, steps):\n",
    "    \"\"\"Evoluciona el estado usando la regla 110 por 'steps' pasos.\"\"\"\n",
    "    n = len(initial_state)\n",
    "    state = initial_state[:]\n",
    "    history = [state[:]]\n",
    "    for _ in range(steps):\n",
    "        new_state = []\n",
    "        for i in range(n):\n",
    "            left = state[i-1] if i > 0 else 0\n",
    "            center = state[i]\n",
    "            right = state[i+1] if i < n-1 else 0\n",
    "            new_state.append(rule110(left, center, right))\n",
    "        history.append(new_state)\n",
    "        state = new_state\n",
    "    return history\n",
    "\n",
    "# Condición inicial del problema\n",
    "initial = [0,0,0,0,0,0,0,0,0,1,0,0]\n",
    "\n",
    "# Ejecutar 8 pasos\n",
    "result = evolve_110(initial, 8)\n",
    "\n",
    "# Mostrar el resultado en t = 8\n",
    "t8 = result[8]\n",
    "print(\"Estado en t = 8:\", t8)\n"
   ]
  },
  {
   "cell_type": "code",
   "execution_count": 3,
   "id": "bf776eab",
   "metadata": {},
   "outputs": [
    {
     "name": "stdout",
     "output_type": "stream",
     "text": [
      "Representación visual del estado en t = 8:\n",
      "□ ■ ■ ■ ■ ■ ■ ■ □ ■ □ □ \n"
     ]
    }
   ],
   "source": [
    "# Representacion visual en cuadrados \n",
    "# □ □ □ □ ■ ■ ■ ■ ■ □ □\n",
    "def print_state(state):\n",
    "    \"\"\"Imprime el estado como cuadrados.\"\"\"\n",
    "    for cell in state:\n",
    "        if cell == 1:\n",
    "            print(\"■\", end=\" \")\n",
    "        else:\n",
    "            print(\"□\", end=\" \")\n",
    "    print()\n",
    "\n",
    "print(\"Representación visual del estado en t = 8:\")\n",
    "print_state(t8)"
   ]
  }
 ],
 "metadata": {
  "kernelspec": {
   "display_name": "base",
   "language": "python",
   "name": "python3"
  },
  "language_info": {
   "codemirror_mode": {
    "name": "ipython",
    "version": 3
   },
   "file_extension": ".py",
   "mimetype": "text/x-python",
   "name": "python",
   "nbconvert_exporter": "python",
   "pygments_lexer": "ipython3",
   "version": "3.9.7"
  }
 },
 "nbformat": 4,
 "nbformat_minor": 5
}
